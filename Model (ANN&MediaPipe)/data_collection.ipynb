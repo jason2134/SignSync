{
 "cells": [
  {
   "cell_type": "code",
   "execution_count": 1,
   "metadata": {},
   "outputs": [],
   "source": [
    "# pip install mediapipe"
   ]
  },
  {
   "cell_type": "code",
   "execution_count": 2,
   "metadata": {},
   "outputs": [],
   "source": [
    "import cv2\n",
    "import numpy as np\n",
    "import os\n",
    "from matplotlib import pyplot as plt\n",
    "import time\n",
    "import mediapipe as mp"
   ]
  },
  {
   "cell_type": "code",
   "execution_count": 3,
   "metadata": {},
   "outputs": [],
   "source": [
    "mp_hands = mp.solutions.hands  \n",
    "mp_drawing = mp.solutions.drawing_utils  # Drawing utilities"
   ]
  },
  {
   "cell_type": "code",
   "execution_count": 4,
   "metadata": {},
   "outputs": [],
   "source": [
    "def mediapipe_detection(image, model):\n",
    "    image = cv2.cvtColor(image, cv2.COLOR_BGR2RGB)  # COLOR CONVERSION BGR 2 RGB\n",
    "    image.flags.writeable = False                  # Image is no longer writeable\n",
    "    results = model.process(image)                 # Make prediction\n",
    "    image.flags.writeable = True                   # Image is now writeable\n",
    "    image = cv2.cvtColor(image, cv2.COLOR_RGB2BGR)  # COLOR COVERSION RGB 2 BGR\n",
    "    return image, results"
   ]
  },
  {
   "cell_type": "markdown",
   "metadata": {},
   "source": [
    "### Draw simple landmark with default style"
   ]
  },
  {
   "cell_type": "code",
   "execution_count": null,
   "metadata": {},
   "outputs": [],
   "source": [
    "def draw_landmarks(image, results):\n",
    "    if results.multi_hand_landmarks:\n",
    "        for hand_landmarks in results.multi_hand_landmarks:\n",
    "            mp_drawing.draw_landmarks(image, hand_landmarks, mp_hands.HAND_CONNECTIONS)"
   ]
  },
  {
   "cell_type": "markdown",
   "metadata": {},
   "source": [
    "#### Draw landmark with stylistic way"
   ]
  },
  {
   "cell_type": "code",
   "execution_count": 6,
   "metadata": {},
   "outputs": [],
   "source": [
    "def draw_styled_landmarks(image, results):\n",
    "    # Check if hand landmarks were detected\n",
    "    if results.multi_hand_landmarks and results.multi_handedness:\n",
    "        for idx, hand_landmarks in enumerate(results.multi_hand_landmarks):\n",
    "            # Retrieve the handedness label for this hand (e.g., \"Left\" or \"Right\")\n",
    "            handedness = results.multi_handedness[idx].classification[0].label\n",
    "            if handedness == 'Left':\n",
    "                mp_drawing.draw_landmarks(\n",
    "                    image, hand_landmarks, mp_hands.HAND_CONNECTIONS,\n",
    "                    mp_drawing.DrawingSpec(color=(121,22,76), thickness=1, circle_radius=3),\n",
    "                    mp_drawing.DrawingSpec(color=(121,44,250), thickness=1, circle_radius=2)\n",
    "                )\n",
    "            else:  # Assume the other hand is \"Right\"\n",
    "                mp_drawing.draw_landmarks(\n",
    "                    image, hand_landmarks, mp_hands.HAND_CONNECTIONS,\n",
    "                    mp_drawing.DrawingSpec(color=(245,117,66), thickness=1, circle_radius=3),\n",
    "                    mp_drawing.DrawingSpec(color=(245,66,230), thickness=1, circle_radius=2)\n",
    "                )"
   ]
  },
  {
   "cell_type": "code",
   "execution_count": 7,
   "metadata": {},
   "outputs": [],
   "source": [
    "def extract_key_points(results):\n",
    "    import numpy as np\n",
    "    # Initialize key points for left and right hands as zeros (21 landmarks * 3 coordinates)\n",
    "    left_hand = np.zeros(21 * 3)\n",
    "    right_hand = np.zeros(21 * 3)\n",
    "    \n",
    "    # Check if any hand landmarks and handedness information are detected\n",
    "    if results.multi_hand_landmarks and results.multi_handedness:\n",
    "        for idx, hand_landmarks in enumerate(results.multi_hand_landmarks):\n",
    "            # Flatten the key points: each landmark provides x, y, and z coordinates\n",
    "            keypoints = np.array([[res.x, res.y, res.z] for res in hand_landmarks.landmark]).flatten()\n",
    "            # Retrieve handedness label (\"Left\" or \"Right\")\n",
    "            handedness = results.multi_handedness[idx].classification[0].label\n",
    "            \n",
    "            # Save the keypoints based on the handedness of the detected hand\n",
    "            if handedness == \"Left\":\n",
    "                left_hand = keypoints\n",
    "            elif handedness == \"Right\":\n",
    "                right_hand = keypoints\n",
    "    \n",
    "    # Combine the key points for left and right hands into a single array\n",
    "    return np.concatenate([left_hand, right_hand])"
   ]
  },
  {
   "cell_type": "markdown",
   "metadata": {},
   "source": [
    "#### # 3. Data Collection"
   ]
  },
  {
   "cell_type": "code",
   "execution_count": null,
   "metadata": {},
   "outputs": [],
   "source": [
    "# Path for exported data\n",
    "DATA_PATH = os.path.join('/Users/robayedashraf/Downloads/Dataset/data')\n",
    "IMAGE_PATH = os.path.join('/Users/robayedashraf/Downloads/Dataset/imagedata')\n",
    "IMAGE = os.path.join('/Users/robayedashraf/Downloads/Dataset/image')\n",
    "\n",
    "# Actions that we try to detect\n",
    "# actions = np.array(['A', 'B', 'C', 'D', 'E', 'F', 'G', 'H'])\n",
    "actions = np.array(['A'])\n",
    "\n",
    "# Number of sequences (videos)\n",
    "no_sequences = 20\n",
    "\n",
    "# Length of each sequence (frames)\n",
    "sequence_length = 30"
   ]
  },
  {
   "cell_type": "code",
   "execution_count": null,
   "metadata": {},
   "outputs": [],
   "source": [
    "# Create directories for each action and sequence\n",
    "for action in actions:\n",
    "    for sequence in range(no_sequences):\n",
    "        try:\n",
    "            os.makedirs(os.path.join(DATA_PATH, action, str(sequence)))\n",
    "            os.makedirs(os.path.join(IMAGE_PATH, action, str(sequence)))\n",
    "        except:\n",
    "            pass\n",
    "    try:\n",
    "        os.makedirs(os.path.join(IMAGE, str(action)))\n",
    "    except:\n",
    "        pass"
   ]
  },
  {
   "cell_type": "markdown",
   "metadata": {},
   "source": [
    "### Collect data"
   ]
  },
  {
   "cell_type": "code",
   "execution_count": 11,
   "metadata": {},
   "outputs": [
    {
     "name": "stderr",
     "output_type": "stream",
     "text": [
      "2025-06-18 16:13:48.881 python[26807:6559313] WARNING: AVCaptureDeviceTypeExternal is deprecated for Continuity Cameras. Please use AVCaptureDeviceTypeContinuityCamera and add NSCameraUseContinuityCameraDeviceType to your Info.plist.\n",
      "WARNING: All log messages before absl::InitializeLog() is called are written to STDERR\n",
      "I0000 00:00:1750227230.253822 6559313 gl_context.cc:369] GL version: 2.1 (2.1 Metal - 89.4), renderer: Apple M3 Pro\n",
      "INFO: Created TensorFlow Lite XNNPACK delegate for CPU.\n",
      "W0000 00:00:1750227230.260786 6559576 inference_feedback_manager.cc:114] Feedback manager requires a model with a single signature inference. Disabling support for feedback tensors.\n",
      "W0000 00:00:1750227230.269621 6559579 inference_feedback_manager.cc:114] Feedback manager requires a model with a single signature inference. Disabling support for feedback tensors.\n",
      "W0000 00:00:1750227235.353564 6559577 landmark_projection_calculator.cc:186] Using NORM_RECT without IMAGE_DIMENSIONS is only supported for the square ROI. Provide IMAGE_DIMENSIONS or use PROJECTION_MATRIX.\n"
     ]
    }
   ],
   "source": [
    "# Collect data\n",
    "cap = cv2.VideoCapture(0)\n",
    "x = 0  # Flag to break the loop gracefully\n",
    "# Access MediaPipe model\n",
    "with mp_hands.Hands(static_image_mode=False, max_num_hands=2, min_detection_confidence=0.5, min_tracking_confidence=0.8) as hands:\n",
    "    # Loop through actions\n",
    "    cv2.waitKey(5000)\n",
    "    for action in actions:\n",
    "        # Loop through sequences (videos)\n",
    "        for sequence in range(no_sequences):\n",
    "            # Loop through frames in a sequence\n",
    "            for frame_num in range(sequence_length):\n",
    "                # Read feed\n",
    "                ret, frame = cap.read()\n",
    "                frame = cv2.resize(frame, (1280, 720))  # Resize frame to 1280x720\n",
    "                sample_image_data_path = os.path.join(IMAGE_PATH, action, str(sequence), f\"{frame_num}.jpg\")\n",
    "                cv2.imwrite(sample_image_data_path, frame)\n",
    "                frame=cv2.flip(frame, 1)\n",
    "                # Make detections\n",
    "                image, results = mediapipe_detection(frame, hands)\n",
    "\n",
    "                # Draw landmarks\n",
    "                draw_styled_landmarks(image, results)\n",
    "                # Save a sample frame as an image for this character (only once for the first sequence)\n",
    "                if sequence < 3 and frame_num ==0:\n",
    "                    sample_image_path = os.path.join(IMAGE, action, f\"sample{sequence}.jpg\")\n",
    "                    cv2.imwrite(sample_image_path, image)\n",
    "                # Apply wait logic\n",
    "                cv2.putText(image, 'COLLECTING', (120,200), cv2.FONT_HERSHEY_SIMPLEX, 1, (0,255, 0), 4, cv2.LINE_AA)\n",
    "                cv2.putText(image, f'Collecting frames for {action} Video Number {sequence}', (15,12),\n",
    "                            cv2.FONT_HERSHEY_SIMPLEX, 0.5, (0,0,255), 1, cv2.LINE_AA)\n",
    "                # Show to screen\n",
    "                cv2.imshow('OpenCV Feed', image)\n",
    "\n",
    "                # Export keypoints\n",
    "                keypoints = extract_key_points(results)\n",
    "                npy_path = os.path.join(DATA_PATH, action, str(sequence), str(frame_num))\n",
    "                np.save(npy_path, keypoints)\n",
    "\n",
    "                # Break gracefully\n",
    "                if cv2.waitKey(1) & 0xFF == ord('q'):\n",
    "                    x=1\n",
    "                    break\n",
    "            if x==1:\n",
    "                break\n",
    "        if x==1:\n",
    "            break\n",
    "    cap.release()\n",
    "    cv2.waitKey(5000)\n",
    "    cv2.destroyAllWindows()\n"
   ]
  }
 ],
 "metadata": {
  "kernelspec": {
   "display_name": "base",
   "language": "python",
   "name": "python3"
  },
  "language_info": {
   "codemirror_mode": {
    "name": "ipython",
    "version": 3
   },
   "file_extension": ".py",
   "mimetype": "text/x-python",
   "name": "python",
   "nbconvert_exporter": "python",
   "pygments_lexer": "ipython3",
   "version": "3.12.4"
  }
 },
 "nbformat": 4,
 "nbformat_minor": 4
}
